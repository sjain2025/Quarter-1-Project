{
  "nbformat": 4,
  "nbformat_minor": 0,
  "metadata": {
    "colab": {
      "provenance": []
    },
    "kernelspec": {
      "name": "python3",
      "display_name": "Python 3"
    },
    "language_info": {
      "name": "python"
    }
  },
  "cells": [
    {
      "cell_type": "markdown",
      "source": [],
      "metadata": {
        "id": "ph9lzphcBlt7"
      }
    },
    {
      "cell_type": "code",
      "source": [
        "import os\n",
        "import pandas as pd\n",
        "from sklearn.model_selection import train_test_split"
      ],
      "metadata": {
        "id": "wZm3ZIXq4B_r"
      },
      "execution_count": 143,
      "outputs": []
    },
    {
      "cell_type": "code",
      "execution_count": 144,
      "metadata": {
        "colab": {
          "base_uri": "https://localhost:8080/"
        },
        "id": "pMdWLeyr29KP",
        "outputId": "0544ed55-95b7-4b98-b7c2-3c68972c5d1c"
      },
      "outputs": [
        {
          "output_type": "stream",
          "name": "stdout",
          "text": [
            "Drive already mounted at /content/drive; to attempt to forcibly remount, call drive.mount(\"/content/drive\", force_remount=True).\n"
          ]
        }
      ],
      "source": [
        "from google.colab import drive\n",
        "drive.mount('/content/drive')"
      ]
    },
    {
      "cell_type": "code",
      "source": [
        "dataset_folder_path = \"/content/drive/MyDrive/Datasets\""
      ],
      "metadata": {
        "id": "DY2fTBho34c6"
      },
      "execution_count": 145,
      "outputs": []
    },
    {
      "cell_type": "code",
      "source": [
        "os.chdir(dataset_folder_path)"
      ],
      "metadata": {
        "id": "EAXcyaIg3Tnv"
      },
      "execution_count": 146,
      "outputs": []
    },
    {
      "cell_type": "code",
      "source": [
        "folders = [f for f in os.listdir(dataset_folder_path) if os.path.isdir(os.path.join(dataset_folder_path, f))]"
      ],
      "metadata": {
        "id": "BpY3jHNa3vD6"
      },
      "execution_count": 147,
      "outputs": []
    },
    {
      "cell_type": "code",
      "source": [
        "num_to_word = {0: 'zero', 1: 'one', 2: 'two', 3: 'three', 4: 'four'}"
      ],
      "metadata": {
        "id": "ZLmEY3vBKQH-"
      },
      "execution_count": 148,
      "outputs": []
    },
    {
      "cell_type": "code",
      "source": [
        "def split_df(df, target_column, train_split=0.8, test_split=0.1, val_split=0.1):\n",
        "    train_df, temp_df = train_test_split(df, test_size=(1 - train_split), stratify=df[target_column], random_state=42)\n",
        "    test_df, val_df = train_test_split(temp_df, test_size=(val_split / (test_split + val_split)), stratify=temp_df[target_column], random_state=42)\n",
        "\n",
        "    return train_df, test_df, val_df"
      ],
      "metadata": {
        "id": "TyokOfGk49dy"
      },
      "execution_count": 149,
      "outputs": []
    },
    {
      "cell_type": "code",
      "source": [
        "for folder in folders:\n",
        "  subdataset_folder_path = os.path.join(dataset_folder_path, folder)\n",
        "  files = os.listdir(subdataset_folder_path)\n",
        "  file = [file for file in files if file == f\"{folder}_Dataset.csv\"][0]\n",
        "  file_path = os.path.join(subdataset_folder_path, file)\n",
        "  df = pd.read_csv(file_path)\n",
        "  df[\"GradeClass\"] = df[\"GradeClass\"].map(num_to_word)\n",
        "  train_df, test_df, val_df = split_df(df, \"GradeClass\")\n",
        "  train_df.to_csv(os.path.join(subdataset_folder_path, f\"{folder}_train.csv\"), index=False)\n",
        "  test_df.to_csv(os.path.join(subdataset_folder_path, f\"{folder}_test.csv\"), index=False)\n",
        "  val_df.to_csv(os.path.join(subdataset_folder_path, f\"{folder}_val.csv\"), index=False)"
      ],
      "metadata": {
        "id": "vM4zZ_-l4skB",
        "collapsed": true
      },
      "execution_count": 150,
      "outputs": []
    },
    {
      "cell_type": "code",
      "source": [],
      "metadata": {
        "id": "HXWIYT67KZlf"
      },
      "execution_count": null,
      "outputs": []
    }
  ]
}